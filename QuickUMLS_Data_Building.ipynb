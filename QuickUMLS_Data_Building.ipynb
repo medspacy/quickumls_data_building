{
 "cells": [
  {
   "cell_type": "markdown",
   "metadata": {},
   "source": [
    "# The purpose of this notebook is to create resources for use with QuickUMLS using UMLS source data"
   ]
  },
  {
   "cell_type": "code",
   "execution_count": 11,
   "metadata": {},
   "outputs": [],
   "source": [
    "import os\n",
    "\n",
    "import subprocess"
   ]
  },
  {
   "cell_type": "code",
   "execution_count": 2,
   "metadata": {},
   "outputs": [
    {
     "name": "stdout",
     "output_type": "stream",
     "text": [
      "Loading from UMLS_SOURCE_DIR: C:\\temp_umls\\2020AA_Level_0_Subset\\2020AA\n"
     ]
    }
   ],
   "source": [
    "UMLS_SOURCE_DIR = r'C:\\temp_umls\\2020AA_Level_0_Subset\\2020AA'\n",
    "\n",
    "print('Loading from UMLS_SOURCE_DIR: {}'.format(UMLS_SOURCE_DIR))"
   ]
  },
  {
   "cell_type": "code",
   "execution_count": 3,
   "metadata": {},
   "outputs": [
    {
     "name": "stdout",
     "output_type": "stream",
     "text": [
      "Writing to OUTPUT_BASE_DIR: C:\\temp_quickumls\n"
     ]
    }
   ],
   "source": [
    "OUTPUT_BASE_DIR = r'C:\\temp_quickumls'\n",
    "\n",
    "print('Writing to OUTPUT_BASE_DIR: {}'.format(OUTPUT_BASE_DIR))"
   ]
  },
  {
   "cell_type": "code",
   "execution_count": 4,
   "metadata": {},
   "outputs": [],
   "source": [
    "lowercase = True\n",
    "\n",
    "# this is now the default for QuickUMLS 1.4+\n",
    "database_backend = 'unqlite'\n",
    "#database_backend =  = 'leveldb'"
   ]
  },
  {
   "cell_type": "code",
   "execution_count": 5,
   "metadata": {},
   "outputs": [
    {
     "name": "stdout",
     "output_type": "stream",
     "text": [
      "output_resource_name : QuickUMLS_2020AA_lowercase_unqlite\n",
      "output_full_path : C:\\temp_umls\\2020AA_Level_0_Subset\\2020AA/QuickUMLS_2020AA_lowercase_unqlite\n"
     ]
    }
   ],
   "source": [
    "lowercase_str = 'originalcase'\n",
    "if lowercase:\n",
    "    lowercase_str = 'lowercase'\n",
    "\n",
    "output_resource_name = 'QuickUMLS_{0}_{1}_{2}'.format(os.path.basename(UMLS_SOURCE_DIR),\n",
    "                                                     lowercase_str,\n",
    "                                                     database_backend)\n",
    "\n",
    "output_full_path = '{0}/{1}'.format(UMLS_SOURCE_DIR, output_resource_name)\n",
    "\n",
    "print('output_resource_name : {}'.format(output_resource_name))\n",
    "print('output_full_path : {}'.format(output_full_path))"
   ]
  },
  {
   "cell_type": "code",
   "execution_count": 16,
   "metadata": {},
   "outputs": [
    {
     "name": "stdout",
     "output_type": "stream",
     "text": [
      "About to run this command:\n",
      "python -m quickumls.install C:\\temp_umls\\2020AA_Level_0_Subset\\2020AA C:\\temp_umls\\2020AA_Level_0_Subset\\2020AA/QuickUMLS_2020AA_lowercase_unqlite -d unqlite -L\n"
     ]
    }
   ],
   "source": [
    "# now let's prepare to call QuickUMLS...\n",
    "\n",
    "command = 'python -m quickumls.install {0} {1} -d {2}'.format(UMLS_SOURCE_DIR,\n",
    "                                                             output_full_path,\n",
    "                                                             database_backend)\n",
    "\n",
    "if lowercase:\n",
    "    command += ' -L'\n",
    "    \n",
    "print('About to run this command:')\n",
    "print(command)"
   ]
  },
  {
   "cell_type": "code",
   "execution_count": 17,
   "metadata": {},
   "outputs": [
    {
     "name": "stdout",
     "output_type": "stream",
     "text": [
      "Calling to QuickUMLS install...\n"
     ]
    },
    {
     "ename": "CalledProcessError",
     "evalue": "Command 'python -m quickumls.install C:\\temp_umls\\2020AA_Level_0_Subset\\2020AA C:\\temp_umls\\2020AA_Level_0_Subset\\2020AA/QuickUMLS_2020AA_lowercase_unqlite -d unqlite -L' returned non-zero exit status 1.",
     "output_type": "error",
     "traceback": [
      "\u001b[1;31m---------------------------------------------------------------------------\u001b[0m",
      "\u001b[1;31mCalledProcessError\u001b[0m                        Traceback (most recent call last)",
      "\u001b[1;32m<ipython-input-17-377a3b8d4f6f>\u001b[0m in \u001b[0;36m<module>\u001b[1;34m\u001b[0m\n\u001b[0;32m      1\u001b[0m \u001b[0mprint\u001b[0m\u001b[1;33m(\u001b[0m\u001b[1;34m'Calling to QuickUMLS install...'\u001b[0m\u001b[1;33m)\u001b[0m\u001b[1;33m\u001b[0m\u001b[1;33m\u001b[0m\u001b[0m\n\u001b[0;32m      2\u001b[0m \u001b[1;33m\u001b[0m\u001b[0m\n\u001b[1;32m----> 3\u001b[1;33m \u001b[0moutput\u001b[0m \u001b[1;33m=\u001b[0m \u001b[0msubprocess\u001b[0m\u001b[1;33m.\u001b[0m\u001b[0mcheck_output\u001b[0m\u001b[1;33m(\u001b[0m\u001b[0mcommand\u001b[0m\u001b[1;33m,\u001b[0m \u001b[0mshell\u001b[0m\u001b[1;33m=\u001b[0m\u001b[1;32mTrue\u001b[0m\u001b[1;33m)\u001b[0m\u001b[1;33m\u001b[0m\u001b[1;33m\u001b[0m\u001b[0m\n\u001b[0m\u001b[0;32m      4\u001b[0m \u001b[0mprint\u001b[0m\u001b[1;33m(\u001b[0m\u001b[0moutput\u001b[0m\u001b[1;33m)\u001b[0m\u001b[1;33m\u001b[0m\u001b[1;33m\u001b[0m\u001b[0m\n\u001b[0;32m      5\u001b[0m \u001b[1;33m\u001b[0m\u001b[0m\n",
      "\u001b[1;32mC:\\Anaconda3\\envs\\quickumls_data_building\\lib\\subprocess.py\u001b[0m in \u001b[0;36mcheck_output\u001b[1;34m(timeout, *popenargs, **kwargs)\u001b[0m\n\u001b[0;32m    409\u001b[0m \u001b[1;33m\u001b[0m\u001b[0m\n\u001b[0;32m    410\u001b[0m     return run(*popenargs, stdout=PIPE, timeout=timeout, check=True,\n\u001b[1;32m--> 411\u001b[1;33m                **kwargs).stdout\n\u001b[0m\u001b[0;32m    412\u001b[0m \u001b[1;33m\u001b[0m\u001b[0m\n\u001b[0;32m    413\u001b[0m \u001b[1;33m\u001b[0m\u001b[0m\n",
      "\u001b[1;32mC:\\Anaconda3\\envs\\quickumls_data_building\\lib\\subprocess.py\u001b[0m in \u001b[0;36mrun\u001b[1;34m(input, capture_output, timeout, check, *popenargs, **kwargs)\u001b[0m\n\u001b[0;32m    510\u001b[0m         \u001b[1;32mif\u001b[0m \u001b[0mcheck\u001b[0m \u001b[1;32mand\u001b[0m \u001b[0mretcode\u001b[0m\u001b[1;33m:\u001b[0m\u001b[1;33m\u001b[0m\u001b[1;33m\u001b[0m\u001b[0m\n\u001b[0;32m    511\u001b[0m             raise CalledProcessError(retcode, process.args,\n\u001b[1;32m--> 512\u001b[1;33m                                      output=stdout, stderr=stderr)\n\u001b[0m\u001b[0;32m    513\u001b[0m     \u001b[1;32mreturn\u001b[0m \u001b[0mCompletedProcess\u001b[0m\u001b[1;33m(\u001b[0m\u001b[0mprocess\u001b[0m\u001b[1;33m.\u001b[0m\u001b[0margs\u001b[0m\u001b[1;33m,\u001b[0m \u001b[0mretcode\u001b[0m\u001b[1;33m,\u001b[0m \u001b[0mstdout\u001b[0m\u001b[1;33m,\u001b[0m \u001b[0mstderr\u001b[0m\u001b[1;33m)\u001b[0m\u001b[1;33m\u001b[0m\u001b[1;33m\u001b[0m\u001b[0m\n\u001b[0;32m    514\u001b[0m \u001b[1;33m\u001b[0m\u001b[0m\n",
      "\u001b[1;31mCalledProcessError\u001b[0m: Command 'python -m quickumls.install C:\\temp_umls\\2020AA_Level_0_Subset\\2020AA C:\\temp_umls\\2020AA_Level_0_Subset\\2020AA/QuickUMLS_2020AA_lowercase_unqlite -d unqlite -L' returned non-zero exit status 1."
     ]
    }
   ],
   "source": [
    "print('Calling to QuickUMLS install...')\n",
    "\n",
    "output = subprocess.check_output(command, shell=True)\n",
    "print(output)\n",
    "\n",
    "print('QuickUMLS install DONE')"
   ]
  },
  {
   "cell_type": "code",
   "execution_count": null,
   "metadata": {},
   "outputs": [],
   "source": []
  }
 ],
 "metadata": {
  "kernelspec": {
   "display_name": "Python [conda env:quickumls_data_building] *",
   "language": "python",
   "name": "conda-env-quickumls_data_building-py"
  },
  "language_info": {
   "codemirror_mode": {
    "name": "ipython",
    "version": 3
   },
   "file_extension": ".py",
   "mimetype": "text/x-python",
   "name": "python",
   "nbconvert_exporter": "python",
   "pygments_lexer": "ipython3",
   "version": "3.7.8"
  }
 },
 "nbformat": 4,
 "nbformat_minor": 4
}
